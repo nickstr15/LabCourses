{
 "cells": [
  {
   "cell_type": "markdown",
   "metadata": {},
   "source": [
    "# Error propagation - Solution"
   ]
  },
  {
   "cell_type": "code",
   "execution_count": 1,
   "metadata": {},
   "outputs": [],
   "source": [
    "from sympy import *\n",
    "from IPython.display import display, Latex"
   ]
  },
  {
   "cell_type": "code",
   "execution_count": 2,
   "metadata": {},
   "outputs": [],
   "source": [
    "def error_prop(f, vars, sigmas):\n",
    "    \"\"\"\n",
    "    f: formula (sympy expression)\n",
    "    vars: list of independent variables and corresponding uncertainties [(x1, sigma_x1), (x2, sigma_x2), ...]\n",
    "    \"\"\"\n",
    "    sum = sympify(\"0\") # empty SymPy expression\n",
    "    for (x, sigma) in zip(vars,sigmas):\n",
    "        sum += diff(f, x)**2 * sigma**2 \n",
    "    return sqrt(simplify(sum))\n",
    "\n",
    "\n",
    "def error_prop_corr(f, vars, cov):\n",
    "    \"\"\"\n",
    "    f: function f = f(x[0], x[1], ...)\n",
    "    vars: list of variables\n",
    "    cov: covariance matrix (python 2d list)\n",
    "    \"\"\"\n",
    "    sum = sympify(\"0\") # empty sympy expression\n",
    "    for i in range(len(vars)):\n",
    "        for j in range(len(vars)):\n",
    "            sum += diff(f, vars[i]) * diff(f, vars[j]) * cov[i][j] \n",
    "    return sqrt(simplify(sum))"
   ]
  },
  {
   "cell_type": "markdown",
   "metadata": {},
   "source": [
    "# a) Propagate uncertainties...\n",
    "...for the following expressions using [SymPy](https://www.sympy.org) following the examples for [uncorrelated variables](https://nbviewer.jupyter.org/urls/www.physi.uni-heidelberg.de/Einrichtungen/FP/Datenanalyse/FP_Gaussian_error_propagation.ipynb?flush_cache=false) and [correlated variables](https://nbviewer.jupyter.org/urls/www.physi.uni-heidelberg.de/Einrichtungen/FP/Datenanalyse/FP_Gaussian_error_propagation_corr.ipynb?flush_cache=false) from the FP web page.\n"
   ]
  },
  {
   "cell_type": "markdown",
   "metadata": {},
   "source": [
    "## i) Find expressions for the absolute uncertainty $\\sigma_z$ for $z = x + y$ and $z = x - y$ "
   ]
  },
  {
   "cell_type": "code",
   "execution_count": 3,
   "metadata": {},
   "outputs": [],
   "source": [
    "x, y, sigma_x, sigma_y = symbols('x, y, sigma_x, sigma_y', positive=True)\n",
    "vars = [x, y]\n",
    "sigmas = [sigma_x, sigma_y]\n",
    "z1 = x + y\n",
    "z2 = x - y"
   ]
  },
  {
   "cell_type": "code",
   "execution_count": 4,
   "metadata": {},
   "outputs": [
    {
     "data": {
      "text/latex": [
       "$$\\sigma_{z_1} = \\sqrt{\\sigma_{x}^{2} + \\sigma_{y}^{2}}$$"
      ],
      "text/plain": [
       "<IPython.core.display.Latex object>"
      ]
     },
     "metadata": {},
     "output_type": "display_data"
    },
    {
     "data": {
      "text/latex": [
       "$$\\sigma_{z_2} = \\sqrt{\\sigma_{x}^{2} + \\sigma_{y}^{2}}$$"
      ],
      "text/plain": [
       "<IPython.core.display.Latex object>"
      ]
     },
     "metadata": {},
     "output_type": "display_data"
    }
   ],
   "source": [
    "# uncorrelated\n",
    "sigma_z1 = error_prop(z1, vars, sigmas)\n",
    "sigma_z2 = error_prop(z2, vars, sigmas)\n",
    "\n",
    "result_z1 = \"$${} = {}$$\".format(latex(\"\\sigma_{z_1}\"), latex(sigma_z1))\n",
    "result_z2 = \"$${} = {}$$\".format(latex(\"\\sigma_{z_2}\"), latex(sigma_z2))\n",
    "display(Latex(result_z1))\n",
    "display(Latex(result_z2))"
   ]
  },
  {
   "cell_type": "code",
   "execution_count": 5,
   "metadata": {},
   "outputs": [
    {
     "data": {
      "text/latex": [
       "$$\\sigma_{z_1} = \\sqrt{2 \\rho \\sigma_{x} \\sigma_{y} + \\sigma_{x}^{2} + \\sigma_{y}^{2}}$$"
      ],
      "text/plain": [
       "<IPython.core.display.Latex object>"
      ]
     },
     "metadata": {},
     "output_type": "display_data"
    },
    {
     "data": {
      "text/latex": [
       "$$\\sigma_{z_2} = \\sqrt{- 2 \\rho \\sigma_{x} \\sigma_{y} + \\sigma_{x}^{2} + \\sigma_{y}^{2}}$$"
      ],
      "text/plain": [
       "<IPython.core.display.Latex object>"
      ]
     },
     "metadata": {},
     "output_type": "display_data"
    }
   ],
   "source": [
    "# correlated\n",
    "rho = Symbol(\"rho\", real=True)\n",
    "cov = [[sigma_x**2, rho * sigma_x * sigma_y], [rho * sigma_x * sigma_y, sigma_y**2]]\n",
    "sigma_z1 = error_prop_corr(z1, vars, cov)\n",
    "sigma_z2 = error_prop_corr(z2, vars, cov)\n",
    "\n",
    "result_z1 = \"$${} = {}$$\".format(latex(\"\\sigma_{z_1}\"), latex(sigma_z1))\n",
    "result_z2 = \"$${} = {}$$\".format(latex(\"\\sigma_{z_2}\"), latex(sigma_z2))\n",
    "display(Latex(result_z1))\n",
    "display(Latex(result_z2))"
   ]
  },
  {
   "cell_type": "markdown",
   "metadata": {},
   "source": [
    "## ii) Find expressions for the relative uncertainty $\\sigma_z / z$ for $z = x \\cdot y, \\; z = x / y$ and $z = x^n y^n$"
   ]
  },
  {
   "cell_type": "code",
   "execution_count": 6,
   "metadata": {},
   "outputs": [],
   "source": [
    "n = symbols('n', positive=True)\n",
    "z3 = x*y\n",
    "z4 = x/y\n",
    "z5 = x**n * y**n "
   ]
  },
  {
   "cell_type": "code",
   "execution_count": 7,
   "metadata": {},
   "outputs": [
    {
     "data": {
      "text/latex": [
       "$$\\frac{\\sigma_{z_3}}{z_3} = \\frac{\\sqrt{\\sigma_{x}^{2} y^{2} + \\sigma_{y}^{2} x^{2}}}{x y}$$"
      ],
      "text/plain": [
       "<IPython.core.display.Latex object>"
      ]
     },
     "metadata": {},
     "output_type": "display_data"
    },
    {
     "data": {
      "text/latex": [
       "$$\\frac{\\sigma_{z_4}}{z_4} = \\frac{\\sqrt{\\sigma_{x}^{2} y^{2} + \\sigma_{y}^{2} x^{2}}}{x y}$$"
      ],
      "text/plain": [
       "<IPython.core.display.Latex object>"
      ]
     },
     "metadata": {},
     "output_type": "display_data"
    },
    {
     "data": {
      "text/latex": [
       "$$\\frac{\\sigma_{z_5}}{z_5} = \\frac{n \\sqrt{\\sigma_{x}^{2} y^{2} + \\sigma_{y}^{2} x^{2}}}{x y}$$"
      ],
      "text/plain": [
       "<IPython.core.display.Latex object>"
      ]
     },
     "metadata": {},
     "output_type": "display_data"
    }
   ],
   "source": [
    "# uncorrelated\n",
    "rel_z3 = simplify(error_prop(z3, vars, sigmas) / z3)\n",
    "rel_z4 = simplify(error_prop(z4, vars, sigmas) / z4)\n",
    "rel_z5 = simplify(error_prop(z5, vars, sigmas) / z5)\n",
    "\n",
    "result_z3 = \"$${} = {}$$\".format(latex(\"\\\\frac{\\sigma_{z_3}}{z_3}\"), latex(rel_z3))\n",
    "result_z4 = \"$${} = {}$$\".format(latex(\"\\\\frac{\\sigma_{z_4}}{z_4}\"), latex(rel_z4))\n",
    "result_z5 = \"$${} = {}$$\".format(latex(\"\\\\frac{\\sigma_{z_5}}{z_5}\"), latex(rel_z5))\n",
    "display(Latex(result_z3))\n",
    "display(Latex(result_z4))\n",
    "display(Latex(result_z5))"
   ]
  },
  {
   "cell_type": "code",
   "execution_count": 8,
   "metadata": {},
   "outputs": [
    {
     "data": {
      "text/latex": [
       "$$\\sigma_{z_3} / z_3 = \\frac{\\sqrt{2 \\rho \\sigma_{x} \\sigma_{y} x y + \\sigma_{x}^{2} y^{2} + \\sigma_{y}^{2} x^{2}}}{x y}$$"
      ],
      "text/plain": [
       "<IPython.core.display.Latex object>"
      ]
     },
     "metadata": {},
     "output_type": "display_data"
    },
    {
     "data": {
      "text/latex": [
       "$$\\sigma_{z_4} / z_4 = \\frac{\\sqrt{- 2 \\rho \\sigma_{x} \\sigma_{y} x y + \\sigma_{x}^{2} y^{2} + \\sigma_{y}^{2} x^{2}}}{x y}$$"
      ],
      "text/plain": [
       "<IPython.core.display.Latex object>"
      ]
     },
     "metadata": {},
     "output_type": "display_data"
    },
    {
     "data": {
      "text/latex": [
       "$$\\sigma_{z_5} / z_5 = \\frac{n \\sqrt{2 \\rho \\sigma_{x} \\sigma_{y} x y + \\sigma_{x}^{2} y^{2} + \\sigma_{y}^{2} x^{2}}}{x y}$$"
      ],
      "text/plain": [
       "<IPython.core.display.Latex object>"
      ]
     },
     "metadata": {},
     "output_type": "display_data"
    }
   ],
   "source": [
    "# correlated\n",
    "rel_z3 = simplify(error_prop_corr(z3, vars, cov) / z3)\n",
    "rel_z4 = simplify(error_prop_corr(z4, vars, cov) / z4)\n",
    "rel_z5 = simplify(error_prop_corr(z5, vars, cov) / z5)\n",
    "\n",
    "result_z3 = \"$${} = {}$$\".format(latex(\"\\sigma_{z_3} / z_3\"), latex(rel_z3))\n",
    "result_z4 = \"$${} = {}$$\".format(latex(\"\\sigma_{z_4} / z_4\"), latex(rel_z4))\n",
    "result_z5 = \"$${} = {}$$\".format(latex(\"\\sigma_{z_5} / z_5\"), latex(rel_z5))\n",
    "display(Latex(result_z3))\n",
    "display(Latex(result_z4))\n",
    "display(Latex(result_z5))"
   ]
  },
  {
   "cell_type": "code",
   "execution_count": 9,
   "metadata": {},
   "outputs": [],
   "source": [
    "x, y, sigma_x, sigma_y = symbols('x, y, sigma_x, sigma_y', positive=True)"
   ]
  },
  {
   "cell_type": "markdown",
   "metadata": {},
   "source": [
    "## iii) $g = 4  \\pi^2 \\frac{L}{T^2}$\n",
    "The relevant variables are the length $L$ of the pendulum and the period $T$ with the corresponding errors $\\sigma_L$ and $\\sigma_T$."
   ]
  },
  {
   "cell_type": "code",
   "execution_count": 10,
   "metadata": {},
   "outputs": [],
   "source": [
    "L, T, sigma_L, sigma_T = symbols('L, T, sigma_L, sigma_T', positive=True)\n",
    "g = 4*pi**2 * L / T**2"
   ]
  },
  {
   "cell_type": "code",
   "execution_count": 11,
   "metadata": {},
   "outputs": [
    {
     "data": {
      "text/latex": [
       "$$\\sigma_{g} = \\frac{4 \\pi^{2} \\sqrt{4 L^{2} \\sigma_{T}^{2} + T^{2} \\sigma_{L}^{2}}}{T^{3}}$$"
      ],
      "text/plain": [
       "<IPython.core.display.Latex object>"
      ]
     },
     "metadata": {},
     "output_type": "display_data"
    }
   ],
   "source": [
    "# uncorrelated\n",
    "sigma_g = error_prop(g, [L,T], [sigma_L, sigma_T])\n",
    "result_g = \"$${} = {}$$\".format(latex(\"\\sigma_{g}\"), latex(sigma_g))\n",
    "display(Latex(result_g))"
   ]
  },
  {
   "cell_type": "code",
   "execution_count": 12,
   "metadata": {},
   "outputs": [
    {
     "data": {
      "text/latex": [
       "$$\\sigma_{g} = \\frac{4 \\pi^{2} \\sqrt{4 L^{2} \\sigma_{T}^{2} - 4 L T \\rho \\sigma_{L} \\sigma_{T} + T^{2} \\sigma_{L}^{2}}}{T^{3}}$$"
      ],
      "text/plain": [
       "<IPython.core.display.Latex object>"
      ]
     },
     "metadata": {},
     "output_type": "display_data"
    }
   ],
   "source": [
    "# correlated\n",
    "cov = [[sigma_L**2, rho * sigma_L * sigma_T], [rho * sigma_L * sigma_T, sigma_T**2]]\n",
    "sigma_g = error_prop_corr(g, [L,T], cov)\n",
    "result_g = \"$${} = {}$$\".format(latex(\"\\sigma_{g}\"), latex(sigma_g))\n",
    "display(Latex(result_g))"
   ]
  },
  {
   "cell_type": "markdown",
   "metadata": {},
   "source": [
    "## b)  Cylinder\n",
    "The radius $r$ and the height $h$ of a cylinder have been measured to $r = 2$ cm and $h = 3$ cm. The uncertainty for both measurements is $\\sigma = 0.05$ cm. Determine the volume of the cylinder and its uncertainty assuming (i) that both measurements are uncorrelated and (ii) that both measurements are fully correlated."
   ]
  },
  {
   "cell_type": "code",
   "execution_count": 13,
   "metadata": {},
   "outputs": [],
   "source": [
    "r, h, sigma_r, sigma_h = symbols('r, h, sigma_r, sigma_h', positive=True)\n",
    "V = pi * r**2 * h"
   ]
  },
  {
   "cell_type": "code",
   "execution_count": 14,
   "metadata": {},
   "outputs": [
    {
     "data": {
      "text/latex": [
       "$$\\sigma_{V} = \\pi r \\sqrt{4 h^{2} \\sigma_{r}^{2} + 4 h r \\rho \\sigma_{h} \\sigma_{r} + r^{2} \\sigma_{h}^{2}}$$"
      ],
      "text/plain": [
       "<IPython.core.display.Latex object>"
      ]
     },
     "metadata": {},
     "output_type": "display_data"
    },
    {
     "name": "stdout",
     "output_type": "stream",
     "text": [
      "\n"
     ]
    },
    {
     "data": {
      "text/latex": [
       "\n",
       "$$\\rho = 0$$"
      ],
      "text/plain": [
       "<IPython.core.display.Latex object>"
      ]
     },
     "metadata": {},
     "output_type": "display_data"
    },
    {
     "data": {
      "text/latex": [
       "$$V = (37.7 \\pm 2.0)\\, \\mathrm{cm}^3$$"
      ],
      "text/plain": [
       "<IPython.core.display.Latex object>"
      ]
     },
     "metadata": {},
     "output_type": "display_data"
    },
    {
     "name": "stdout",
     "output_type": "stream",
     "text": [
      "\n"
     ]
    },
    {
     "data": {
      "text/latex": [
       "\n",
       "$$\\rho = 1$$"
      ],
      "text/plain": [
       "<IPython.core.display.Latex object>"
      ]
     },
     "metadata": {},
     "output_type": "display_data"
    },
    {
     "data": {
      "text/latex": [
       "$$V = (37.7 \\pm 2.5)\\, \\mathrm{cm}^3$$"
      ],
      "text/plain": [
       "<IPython.core.display.Latex object>"
      ]
     },
     "metadata": {},
     "output_type": "display_data"
    }
   ],
   "source": [
    "cov = [[sigma_r**2, rho * sigma_r * sigma_h], [rho * sigma_r * sigma_h, sigma_h**2]]\n",
    "sigma_V = error_prop_corr(V, [r,h], cov)\n",
    "result_V = \"$${} = {}$$\".format(latex(\"\\sigma_{V}\"), latex(sigma_V))\n",
    "display(Latex(result_V))\n",
    "\n",
    "for _rho in [0,1]:\n",
    "    print('')\n",
    "    display(Latex(f\"\\n$$\\\\rho = {_rho}$$\"))\n",
    "    value = V.subs([(r,2), (h, 3)]).evalf()\n",
    "    sigma = sigma_V.subs([(r, 2), (sigma_r, 0.05), (h, 3), (sigma_h,0.05), (rho, _rho)]).evalf()\n",
    "    result = \"$${} = ({:.1f} \\pm {:.1f})\".format(latex(\"V\"), value, sigma) + \"\\, \\mathrm{cm}^3$$\"\n",
    "    display(Latex(result))"
   ]
  },
  {
   "cell_type": "markdown",
   "metadata": {},
   "source": [
    "As expectetd the error of the uncorrelated values is smaller."
   ]
  },
  {
   "cell_type": "markdown",
   "metadata": {},
   "source": [
    "## c) Scattering angle and the radial distance of a certain particle \n",
    "The scattering angle and the radial distance of a certain particle can be determined from a position measurement $(x,y)$ \n",
    "$$r = \\sqrt{x^2 + y^2}, \\quad \\theta = \\mathrm{atan2}(y, x)$$\n",
    "You find more on the [atan2](https://en.wikipedia.org/wiki/Atan2) function on wikipedia. The position ($x$,$y$) is measured with the corresponding uncertainties $\\sigma_x$ and $\\sigma_y$. Write a python function that returns the covariance matrix $U$ of $r$ and $\\theta$ for a given covariance matrix $V$ of $x$ and $y$. Determine $U$ under the assumption that $x$ and $y$ are uncorrelated. Hint: The formulas you need can be found in the script.\n"
   ]
  },
  {
   "cell_type": "code",
   "execution_count": 15,
   "metadata": {},
   "outputs": [],
   "source": [
    "import numpy as np"
   ]
  },
  {
   "cell_type": "code",
   "execution_count": 16,
   "metadata": {},
   "outputs": [],
   "source": [
    "x, y = symbols('x, y')\n",
    "sigma_x, sigma_y = symbols('sigma_x, sigma_y', positive=True)\n",
    "vars = [x, y]\n",
    "V = np.array([[sigma_x**2, rho * sigma_x * sigma_y], [rho * sigma_x * sigma_y, sigma_y**2]])\n",
    "\n",
    "r = sqrt(x**2 + y**2)\n",
    "theta = atan2(y,x)\n",
    "transformation = [r, theta]"
   ]
  },
  {
   "cell_type": "code",
   "execution_count": 17,
   "metadata": {},
   "outputs": [
    {
     "data": {
      "text/latex": [
       "$\\displaystyle \\left[\\begin{matrix}\\frac{\\sigma_{x}^{2} x^{2} + \\sigma_{y}^{2} y^{2}}{x^{2} + y^{2}} & \\frac{x y \\left(- \\sigma_{x}^{2} + \\sigma_{y}^{2}\\right)}{\\left(x^{2} + y^{2}\\right)^{1.5}}\\\\\\frac{x y \\left(- \\sigma_{x}^{2} + \\sigma_{y}^{2}\\right)}{\\left(x^{2} + y^{2}\\right)^{1.5}} & \\frac{\\sigma_{x}^{2} y^{2} + \\sigma_{y}^{2} x^{2}}{\\left(x^{2} + y^{2}\\right)^{2}}\\end{matrix}\\right]$"
      ],
      "text/plain": [
       "Matrix([\n",
       "[   (sigma_x**2*x**2 + sigma_y**2*y**2)/(x**2 + y**2), x*y*(-sigma_x**2 + sigma_y**2)*(x**2 + y**2)**(-1.5)],\n",
       "[x*y*(-sigma_x**2 + sigma_y**2)*(x**2 + y**2)**(-1.5), (sigma_x**2*y**2 + sigma_y**2*x**2)/(x**2 + y**2)**2]])"
      ]
     },
     "execution_count": 17,
     "metadata": {},
     "output_type": "execute_result"
    }
   ],
   "source": [
    "def transform_cov(cov, f1, f2, vars, _rho):\n",
    "    G = np.array([[diff(f1, vars[0]), diff(f1,vars[1])], \n",
    "                  [diff(f2, vars[0]), diff(f2,vars[1])]])\n",
    "    U = (G.dot(cov.dot(G.T)))\n",
    "    for i in range(2):\n",
    "        for j in range(2):\n",
    "            U[i,j] = simplify( U[i,j].subs([(rho, _rho)]).evalf() )\n",
    "    return U\n",
    "\n",
    "U = transform_cov(V, r, theta, vars, 0)\n",
    "Matrix(U)"
   ]
  },
  {
   "cell_type": "markdown",
   "metadata": {},
   "source": [
    "Result: sympy is nice :D"
   ]
  }
 ],
 "metadata": {
  "kernelspec": {
   "display_name": "Python 3",
   "language": "python",
   "name": "python3"
  },
  "language_info": {
   "codemirror_mode": {
    "name": "ipython",
    "version": 3
   },
   "file_extension": ".py",
   "mimetype": "text/x-python",
   "name": "python",
   "nbconvert_exporter": "python",
   "pygments_lexer": "ipython3",
   "version": "3.8.5"
  }
 },
 "nbformat": 4,
 "nbformat_minor": 4
}
