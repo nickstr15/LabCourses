{
 "cells": [
  {
   "cell_type": "markdown",
   "metadata": {},
   "source": [
    "# Linear least squares fit\n",
    "\n",
    "## Tasks\n",
    "\n",
    "Perform a least squares fit of a parabola\n",
    "\n",
    "$$ y(x) = \\theta_0 + \\theta_1 x + \\theta_2 x^2$$\n",
    "\n",
    "for the seven independent measurments $(x_i, y_i)$ given by $(-0.75, 1.0 \\pm 1.0)$, $(-0.5, 4.0 \\pm 1.0)$, $(-0.25, 4.0 \\pm 0.5)$, $(0.0, 5.5 \\pm 0.5)$, $(0.25, 4.5 \\pm 0.5)$, $(0.5, 5.5 \\pm 1.0)$, $(0.75, 3.0 \\pm 1.0)$. \n",
    "\n",
    "### Hints\n",
    "\n",
    "1) The following numpy functions might come in very handy\n",
    "* diagonal matrix from vector v in numpy: *A = np.diagflat(v)*\n",
    "* matrix from column vectors v0, v1, v2: *A = np.column_stack((v0, v1, v2))*\n",
    "* multiplication of matrices A and B in numpy: *C = A.dot(B)*\n",
    "* transposed matrix: *A_T = np.transpose(A)*\n",
    "* inverse matrix: *A_inv = inv(A)*, this requires *from numpy.linalg import inv*\n",
    "\n",
    "2) It might be useful to write a function which returns the uncertainty $\\sigma_y$ for a numpy array of $x$ values. A function $f$ that only works for a scalar value $x$ can be vectorized (i.e., it works also for numpy arrays) with *numpy.vectorize*.\n",
    "\n",
    "3) Data points with error bars can be drawn with *plt.errorbar(x, y, yerr=sigma_y)*\n",
    "\n",
    "4) A band between $y$ values can be drawn with the aid of *matplotlib.pyplot.fill_between*\n",
    "\n",
    "## Comments on Python's `iminuit`\n",
    "\n",
    "The KIP service has iminuit version 1.3.8. Please note that the most recent version is $\\geq2.0.0$ and that the [documentation](https://iminuit.readthedocs.io/en/stable/) applies to *that* version. Some backward-incompatible changes have been introduced, some of which changed some interfaces. For your tasks that mainly affects the `minuit.Minuit` constructor. The following shows the construction of a `Minuit` object for version 1.3.8 (in case you use the KIP service or a version $<2.0.0$) and $\\geq2.0.0$ (in case you use another service implementing a higher version), respectively.\n",
    "```python\n",
    "from iminuit import Minuit\n",
    "\n",
    "def func(par1, par2, ..., parN):\n",
    "    return minimise_something(par1, par2, ..., parN)\n",
    "\n",
    "# least squares method: errordef=1\n",
    "# likelihood method: errordef=0.5\n",
    "m = Minuit(func, par1=0.1, par2=0.1, ..., parN=0.1, errordef=1)\n",
    "```\n",
    "\n",
    "And this would be the equivalent workflow for versions >2.0.0\n",
    "```python\n",
    "from iminuit import Minuit\n",
    "\n",
    "def func(par1, par2, ..., parN):\n",
    "    return minimise_something(par1, par2, ..., parN)\n",
    "\n",
    "# least squares method: errordef=Minuit.LEAST_SQUARES\n",
    "# likelihood method: errordef=Minuit.LIKELIHOOD\n",
    "\n",
    "# add errordef as an attribute of your defined minimisation function which will be checked for when optimised\n",
    "func.errordef = Minuit.LEAST_SQUARES\n",
    "m = Minuit(func, par1=0.1 par2=0.1, ..., parN=0.1)\n",
    "```\n",
    "\n",
    "Another (potenitally) Jupiter related *feature* is the fact that `m.migrad()`, `m.matrix()`, `m.minos()` etc. can yield a nice summary of the respective procedure. However, in order to show it, either of these methods (and potentially others in case you use them) have to be *the last line of a code cell*. If there is *anything* coming afterwards, the output will not be printed, hence, for anything that follows, it is recommended to start a new code cell.\n"
   ]
  },
  {
   "cell_type": "markdown",
   "metadata": {},
   "source": [
    "## Solution"
   ]
  },
  {
   "cell_type": "code",
   "execution_count": 1,
   "metadata": {},
   "outputs": [],
   "source": [
    "import numpy as np\n",
    "import matplotlib.pyplot as plt\n",
    "from numpy.linalg import inv\n",
    "#from iminuit import Minuit"
   ]
  },
  {
   "cell_type": "code",
   "execution_count": 2,
   "metadata": {},
   "outputs": [
    {
     "data": {
      "image/png": "[encoded data removed]",
      "text/plain": [
       "<Figure size 432x288 with 1 Axes>"
      ]
     },
     "metadata": {
      "needs_background": "light"
     },
     "output_type": "display_data"
    }
   ],
   "source": [
    "# data\n",
    "x = np.array([-0.75, -0.5, -0.25, 0., 0.25, 0.5, 0.75])\n",
    "y = np.array([1., 4.0, 4., 5.5, 4.5, 5.5, 3])\n",
    "sigma_y = np.array([1, 1, 0.5, 0.5, 0.5, 1, 1])\n",
    "\n",
    "plt.errorbar(x,y,sigma_y, fmt='o', capsize=5)\n",
    "plt.title('data')\n",
    "plt.xlabel('x')\n",
    "plt.ylabel('y')\n",
    "plt.show()"
   ]
  },
  {
   "cell_type": "markdown",
   "metadata": {},
   "source": [
    "### a) Determine the best fit parameters $\\hat \\theta_i$ and their covariances using the formula for linear least squares fits.\n",
    "\n"
   ]
  },
  {
   "cell_type": "code",
   "execution_count": 3,
   "metadata": {},
   "outputs": [
    {
     "name": "stdout",
     "output_type": "stream",
     "text": [
      "fitted parameters:\n",
      "theta_0: \t 4.99373795761079\n",
      "theta_1: \t 1.2941176470588234\n",
      "theta_2: \t -4.89402697495183\n",
      "\n",
      "covariance matrix:\n",
      "[[ 0.0973025   0.         -0.26204239]\n",
      " [ 0.          0.47058824  0.        ]\n",
      " [-0.26204239  0.          1.97302505]]\n"
     ]
    }
   ],
   "source": [
    "C = np.diagflat(sigma_y**2)\n",
    "A = np.column_stack((x**0, x, x**2))\n",
    "\n",
    "AT = A.T\n",
    "Cinv = inv(C)\n",
    "\n",
    "G = inv(AT.dot(Cinv.dot(A))).dot(AT.dot(Cinv))\n",
    "\n",
    "parameters = G.dot(y)\n",
    "print('fitted parameters:')\n",
    "print(f'theta_0: \\t {parameters[0]}\\ntheta_1: \\t {parameters[1]}\\ntheta_2: \\t {parameters[2]}\\n')\n",
    "\n",
    "parameters_cov = inv(AT.dot(Cinv.dot(A)))\n",
    "print('covariance matrix:')\n",
    "print(parameters_cov)"
   ]
  },
  {
   "cell_type": "markdown",
   "metadata": {},
   "source": [
    "### b) Determine the $\\chi_\\mathrm{obs}^2$ for the best fit parameter. What is the number of degrees of freedom? Plot the $\\chi^2$ distribution and indicate $\\chi_\\mathrm{obs}^2$ in this plot (e.g. by drawing a line at this value). What is the $p$-value for this fit?"
   ]
  },
  {
   "cell_type": "code",
   "execution_count": 4,
   "metadata": {},
   "outputs": [
    {
     "data": {
      "text/plain": [
       "4.661070497563187"
      ]
     },
     "execution_count": 4,
     "metadata": {},
     "output_type": "execute_result"
    }
   ],
   "source": [
    "mu = A.dot(parameters)\n",
    "chi_obs = np.sum((y - mu)**2 / sigma_y**2)\n",
    "chi_obs"
   ]
  },
  {
   "cell_type": "code",
   "execution_count": 5,
   "metadata": {},
   "outputs": [
    {
     "data": {
      "text/plain": [
       "4"
      ]
     },
     "execution_count": 5,
     "metadata": {},
     "output_type": "execute_result"
    }
   ],
   "source": [
    "#Anzahl der Freiheitsgrade\n",
    "nF = len(x) - 3\n",
    "nF"
   ]
  },
  {
   "cell_type": "code",
   "execution_count": 6,
   "metadata": {},
   "outputs": [],
   "source": [
    "from scipy.special import gamma\n",
    "def chi(z, n):\n",
    "    return (z**(n/2-1)*np.exp(-z/2)) / (2**(n/2)*gamma(n/2))"
   ]
  },
  {
   "cell_type": "code",
   "execution_count": 7,
   "metadata": {},
   "outputs": [
    {
     "data": {
      "image/png": "[encoded data removed]",
      "text/plain": [
       "<Figure size 432x288 with 1 Axes>"
      ]
     },
     "metadata": {
      "needs_background": "light"
     },
     "output_type": "display_data"
    }
   ],
   "source": [
    "z_line = np.linspace(0,10,100)\n",
    "plt.title(f'$\\chi^2$ distribution for n = {nF}')\n",
    "plt.plot(z_line, chi(z_line,nF), label='distribution')\n",
    "plt.axvline(chi_obs, color='orange', label='$\\chi_{obs}^2$')\n",
    "plt.legend()\n",
    "plt.show()"
   ]
  },
  {
   "cell_type": "code",
   "execution_count": 8,
   "metadata": {},
   "outputs": [
    {
     "data": {
      "text/plain": [
       "0.3238735159316912"
      ]
     },
     "execution_count": 8,
     "metadata": {},
     "output_type": "execute_result"
    }
   ],
   "source": [
    "from scipy.integrate import quad\n",
    "F, F_err = quad(chi, 0, chi_obs, args=(nF))\n",
    "p = 1 - F\n",
    "p"
   ]
  },
  {
   "cell_type": "markdown",
   "metadata": {},
   "source": [
    "The p-value is with 0.32 ok (larger than 0.05)."
   ]
  },
  {
   "cell_type": "markdown",
   "metadata": {},
   "source": [
    "### c) Plot the fitted parabola and the $1\\sigma$ error band around it as obtaind from the error propagation formula $\\sigma_y^2 = A^\\mathrm{T} U A$. What is the predicted value $y$ at $x=1$ and its uncertainty?"
   ]
  },
  {
   "cell_type": "code",
   "execution_count": 9,
   "metadata": {},
   "outputs": [
    {
     "data": {
      "image/png": "[encoded data removed]",
      "text/plain": [
       "<Figure size 432x288 with 1 Axes>"
      ]
     },
     "metadata": {
      "needs_background": "light"
     },
     "output_type": "display_data"
    }
   ],
   "source": [
    "def pol2(x, a,b,c):\n",
    "    return a+b*x+c*x*x\n",
    "\n",
    "x_line = np.linspace(-1,1,100)\n",
    "A_line = np.column_stack((x_line**0, x_line, x_line**2))\n",
    "y_line = A_line.dot(parameters)\n",
    "\n",
    "def get_sigma(parameters_cov, x):\n",
    "    A = np.array([1, x, x**2], dtype=object)\n",
    "    return np.sqrt(A.T.dot(parameters_cov.dot(A)))\n",
    "\n",
    "sigma_y_line = get_sigma(parameters_cov, x_line)\n",
    "\n",
    "plt.xlabel('x')\n",
    "plt.ylabel('y')\n",
    "plt.title('pol2-Fit')\n",
    "plt.errorbar(x,y,sigma_y, fmt='o', capsize=5, zorder=2, label='data')\n",
    "plt.plot(x_line, y_line, color='orange',zorder=1, label='fit')\n",
    "plt.fill_between(x_line, y_line-sigma_y_line, y_line+sigma_y_line, alpha=0.3, color='orange',zorder=0)\n",
    "plt.legend()\n",
    "plt.show()"
   ]
  },
  {
   "cell_type": "code",
   "execution_count": 10,
   "metadata": {},
   "outputs": [
    {
     "name": "stdout",
     "output_type": "stream",
     "text": [
      "y = 1.3938286297177838 +- 1.4201517559263135\n"
     ]
    }
   ],
   "source": [
    "y1 = pol2(1, *parameters)\n",
    "y1_err = get_sigma(parameters_cov, 1)\n",
    "print(f'y = {y1} +- {y1_err}')"
   ]
  },
  {
   "cell_type": "markdown",
   "metadata": {},
   "source": [
    "As one can see in the plot above the values on the left and right cannot be determined exact with this fit."
   ]
  },
  {
   "cell_type": "markdown",
   "metadata": {},
   "source": [
    "### d) Compare the fit result and the covariance matrix with the results obtained with iminuit. Do the results agree?"
   ]
  },
  {
   "cell_type": "code",
   "execution_count": 11,
   "metadata": {},
   "outputs": [
    {
     "name": "stdout",
     "output_type": "stream",
     "text": [
      "own results:\n",
      "[ 4.99373796  1.29411765 -4.89402697]\n",
      "[[ 0.0973025   0.         -0.26204239]\n",
      " [ 0.          0.47058824  0.        ]\n",
      " [-0.26204239  0.          1.97302505]]\n",
      "\n",
      "minuit results:\n"
     ]
    },
    {
     "data": {
      "text/html": [
       "<table>\n",
       "    <tr>\n",
       "        <td colspan=\"2\" style=\"text-align:left\" title=\"Minimum value of function\"> FCN = 4.661 </td>\n",
       "        <td colspan=\"3\" style=\"text-align:center\" title=\"No. of function evaluations in last call and total number\"> Nfcn = 59 </td>\n",
       "    </tr>\n",
       "    <tr>\n",
       "        <td colspan=\"2\" style=\"text-align:left\" title=\"Estimated distance to minimum and goal\"> EDM = 3.65e-24 (Goal: 0.0002) </td>\n",
       "        <td colspan=\"3\" style=\"text-align:center\" title=\"No. of gradient evaluations in last call and total number\">  </td>\n",
       "    </tr>\n",
       "    <tr>\n",
       "        <td style=\"text-align:center;background-color:#92CCA6;color:black\"> Valid Minimum </td>\n",
       "        <td style=\"text-align:center;background-color:#92CCA6;color:black\"> Valid Parameters </td>\n",
       "        <td colspan=\"3\" style=\"text-align:center;background-color:#92CCA6;color:black\"> No Parameters at limit </td>\n",
       "    </tr>\n",
       "    <tr>\n",
       "        <td colspan=\"2\" style=\"text-align:center;background-color:#92CCA6;color:black\"> Below EDM threshold (goal x 10) </td>\n",
       "        <td colspan=\"3\" style=\"text-align:center;background-color:#92CCA6;color:black\"> Below call limit </td>\n",
       "    </tr>\n",
       "    <tr>\n",
       "        <td style=\"text-align:center;background-color:#92CCA6;color:black\"> Covariance </td>\n",
       "        <td style=\"text-align:center;background-color:#92CCA6;color:black\"> Hesse ok </td>\n",
       "        <td style=\"text-align:center;background-color:#92CCA6;color:black\" title=\"Is covariance matrix accurate?\"> Accurate </td>\n",
       "        <td style=\"text-align:center;background-color:#92CCA6;color:black\" title=\"Is covariance matrix positive definite?\"> Pos. def. </td>\n",
       "        <td style=\"text-align:center;background-color:#92CCA6;color:black\" title=\"Was positive definiteness enforced by Minuit?\"> Not forced </td>\n",
       "    </tr>\n",
       "</table><table>\n",
       "    <tr>\n",
       "        <td></td>\n",
       "        <th title=\"Variable name\"> Name </th>\n",
       "        <th title=\"Value of parameter\"> Value </th>\n",
       "        <th title=\"Hesse error\"> Hesse Error </th>\n",
       "        <th title=\"Minos lower error\"> Minos Error- </th>\n",
       "        <th title=\"Minos upper error\"> Minos Error+ </th>\n",
       "        <th title=\"Lower limit of the parameter\"> Limit- </th>\n",
       "        <th title=\"Upper limit of the parameter\"> Limit+ </th>\n",
       "        <th title=\"Is the parameter fixed in the fit\"> Fixed </th>\n",
       "    </tr>\n",
       "    <tr>\n",
       "        <th> 0 </th>\n",
       "        <td> a </td>\n",
       "        <td> 4.99 </td>\n",
       "        <td> 0.31 </td>\n",
       "        <td>  </td>\n",
       "        <td>  </td>\n",
       "        <td>  </td>\n",
       "        <td>  </td>\n",
       "        <td>  </td>\n",
       "    </tr>\n",
       "    <tr>\n",
       "        <th> 1 </th>\n",
       "        <td> b </td>\n",
       "        <td> 1.3 </td>\n",
       "        <td> 0.7 </td>\n",
       "        <td>  </td>\n",
       "        <td>  </td>\n",
       "        <td>  </td>\n",
       "        <td>  </td>\n",
       "        <td>  </td>\n",
       "    </tr>\n",
       "    <tr>\n",
       "        <th> 2 </th>\n",
       "        <td> c </td>\n",
       "        <td> -4.9 </td>\n",
       "        <td> 1.4 </td>\n",
       "        <td>  </td>\n",
       "        <td>  </td>\n",
       "        <td>  </td>\n",
       "        <td>  </td>\n",
       "        <td>  </td>\n",
       "    </tr>\n",
       "</table><table>\n",
       "    <tr>\n",
       "        <td></td>\n",
       "        <th> a </th>\n",
       "        <th> b </th>\n",
       "        <th> c </th>\n",
       "    </tr>\n",
       "    <tr>\n",
       "        <th> a </th>\n",
       "        <td> 0.0973 </td>\n",
       "        <td style=\"background-color:rgb(250,250,250);color:black\"> 3.53e-11 </td>\n",
       "        <td style=\"background-color:rgb(172,172,250);color:black\"> -0.262 <strong>(-0.598)</strong> </td>\n",
       "    </tr>\n",
       "    <tr>\n",
       "        <th> b </th>\n",
       "        <td style=\"background-color:rgb(250,250,250);color:black\"> 3.53e-11 </td>\n",
       "        <td> 0.471 </td>\n",
       "        <td style=\"background-color:rgb(250,250,250);color:black\"> 1.59e-10 </td>\n",
       "    </tr>\n",
       "    <tr>\n",
       "        <th> c </th>\n",
       "        <td style=\"background-color:rgb(172,172,250);color:black\"> -0.262 <strong>(-0.598)</strong> </td>\n",
       "        <td style=\"background-color:rgb(250,250,250);color:black\"> 1.59e-10 </td>\n",
       "        <td> 1.97 </td>\n",
       "    </tr>\n",
       "</table>"
      ],
      "text/plain": [
       "┌──────────────────────────────────┬──────────────────────────────────────┐\n",
       "│ FCN = 4.661                      │              Nfcn = 59               │\n",
       "│ EDM = 3.65e-24 (Goal: 0.0002)    │                                      │\n",
       "├───────────────┬──────────────────┼──────────────────────────────────────┤\n",
       "│ Valid Minimum │ Valid Parameters │        No Parameters at limit        │\n",
       "├───────────────┴──────────────────┼──────────────────────────────────────┤\n",
       "│ Below EDM threshold (goal x 10)  │           Below call limit           │\n",
       "├───────────────┬──────────────────┼───────────┬─────────────┬────────────┤\n",
       "│  Covariance   │     Hesse ok     │ Accurate  │  Pos. def.  │ Not forced │\n",
       "└───────────────┴──────────────────┴───────────┴─────────────┴────────────┘\n",
       "┌───┬──────┬───────────┬───────────┬────────────┬────────────┬─────────┬─────────┬───────┐\n",
       "│   │ Name │   Value   │ Hesse Err │ Minos Err- │ Minos Err+ │ Limit-  │ Limit+  │ Fixed │\n",
       "├───┼──────┼───────────┼───────────┼────────────┼────────────┼─────────┼─────────┼───────┤\n",
       "│ 0 │ a    │   4.99    │   0.31    │            │            │         │         │       │\n",
       "│ 1 │ b    │    1.3    │    0.7    │            │            │         │         │       │\n",
       "│ 2 │ c    │   -4.9    │    1.4    │            │            │         │         │       │\n",
       "└───┴──────┴───────────┴───────────┴────────────┴────────────┴─────────┴─────────┴───────┘\n",
       "┌───┬────────────────────────────┐\n",
       "│   │        a        b        c │\n",
       "├───┼────────────────────────────┤\n",
       "│ a │   0.0973 3.53e-11   -0.262 │\n",
       "│ b │ 3.53e-11    0.471 1.59e-10 │\n",
       "│ c │   -0.262 1.59e-10     1.97 │\n",
       "└───┴────────────────────────────┘"
      ]
     },
     "execution_count": 11,
     "metadata": {},
     "output_type": "execute_result"
    }
   ],
   "source": [
    "from iminuit import Minuit\n",
    "\n",
    "def LSQ(a, b, c):\n",
    "    return np.sum((y - pol2(x, a, b, c)) ** 2 / sigma_y ** 2)\n",
    "\n",
    "LSQ.errordef = Minuit.LEAST_SQUARES\n",
    "m = Minuit(LSQ, a=0, b=0, c=0)\n",
    "\n",
    "print('own results:')\n",
    "print(parameters)\n",
    "print(parameters_cov)\n",
    "print('\\nminuit results:')\n",
    "m.migrad()"
   ]
  },
  {
   "cell_type": "markdown",
   "metadata": {},
   "source": [
    "Apart from numerical differences are the results the same."
   ]
  },
  {
   "cell_type": "markdown",
   "metadata": {},
   "source": [
    "### e) Determine the $p$-value for a straight-line fit. Is this an acceptable description of the data?"
   ]
  },
  {
   "cell_type": "code",
   "execution_count": 12,
   "metadata": {},
   "outputs": [
    {
     "data": {
      "text/plain": [
       "0.002113232078128635"
      ]
     },
     "execution_count": 12,
     "metadata": {},
     "output_type": "execute_result"
    }
   ],
   "source": [
    "C = np.diagflat(sigma_y**2)\n",
    "A = np.column_stack((x**0, x))\n",
    "\n",
    "AT = A.T\n",
    "Cinv = inv(C)\n",
    "\n",
    "G = inv(AT.dot(Cinv.dot(A))).dot(AT.dot(Cinv))\n",
    "\n",
    "parameters = G.dot(y)\n",
    "parameters_cov = inv(AT.dot(Cinv.dot(A)))\n",
    "\n",
    "mu = A.dot(parameters)\n",
    "chi_obs = np.sum((y - mu)**2 / sigma_y**2)\n",
    "\n",
    "F, F_err = quad(chi, 0, chi_obs, args=(nF))\n",
    "p = 1 - F\n",
    "p"
   ]
  },
  {
   "cell_type": "markdown",
   "metadata": {},
   "source": [
    "As we take the same threshold as the one of the script ($p=0.05$): The fit is not acceptable. This can be clearly seen in the plot below:"
   ]
  },
  {
   "cell_type": "code",
   "execution_count": 13,
   "metadata": {},
   "outputs": [
    {
     "data": {
      "image/png": "[encoded data removed]",
      "text/plain": [
       "<Figure size 432x288 with 1 Axes>"
      ]
     },
     "metadata": {
      "needs_background": "light"
     },
     "output_type": "display_data"
    }
   ],
   "source": [
    "def pol1(x, a,b):\n",
    "    return a+b*x\n",
    "\n",
    "x_line = np.linspace(-1,1,100)\n",
    "A_line = np.column_stack((x_line**0, x_line))\n",
    "y_line = A_line.dot(parameters)\n",
    "\n",
    "def get_sigma_line(parameters_cov, x):\n",
    "    A = np.array([1, x], dtype=object)\n",
    "    return np.sqrt(A.T.dot(parameters_cov).dot(A))\n",
    "\n",
    "sigma_y_line = get_sigma_line(parameters_cov, x_line)\n",
    "\n",
    "plt.title('pol1-fit')\n",
    "plt.xlabel('x')\n",
    "plt.ylabel('y')\n",
    "plt.errorbar(x,y,sigma_y, fmt='o', capsize=5, zorder=2, label='data')\n",
    "plt.plot(x_line, y_line, color='orange',zorder=1, label='fit')\n",
    "plt.fill_between(x_line, y_line-sigma_y_line, y_line+sigma_y_line, alpha=0.3, color='orange',zorder=0)\n",
    "plt.legend()\n",
    "plt.show()"
   ]
  }
 ],
 "metadata": {
  "kernelspec": {
   "display_name": "Python 3",
   "language": "python",
   "name": "python3"
  },
  "language_info": {
   "codemirror_mode": {
    "name": "ipython",
    "version": 3
   },
   "file_extension": ".py",
   "mimetype": "text/x-python",
   "name": "python",
   "nbconvert_exporter": "python",
   "pygments_lexer": "ipython3",
   "version": "3.8.5"
  }
 },
 "nbformat": 4,
 "nbformat_minor": 4
}
